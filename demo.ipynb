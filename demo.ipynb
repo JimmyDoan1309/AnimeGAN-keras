{
 "cells": [
  {
   "cell_type": "code",
   "execution_count": null,
   "id": "7deea62f-b565-40e9-87b0-aa976a60d8d6",
   "metadata": {},
   "outputs": [],
   "source": [
    "%load_ext autoreload\n",
    "\n",
    "%autoreload 2"
   ]
  },
  {
   "cell_type": "code",
   "execution_count": null,
   "id": "0f47aedf-ea14-448a-8bf4-7596c02bd7f6",
   "metadata": {},
   "outputs": [],
   "source": [
    "import numpy as np\n",
    "import matplotlib.pyplot as plt\n",
    "import tensorflow as tf\n",
    "from src.utils import get_image, plot_image, denormalize\n",
    "from src.animegan import AnimeGAN, Hyperparams\n",
    "from src.datagen import DataGenerator\n",
    "from src.losses import *"
   ]
  },
  {
   "cell_type": "code",
   "execution_count": null,
   "id": "9a31b34a-7153-4dbd-a567-96213a26131b",
   "metadata": {},
   "outputs": [],
   "source": [
    "tf.keras.backend.clear_session()"
   ]
  },
  {
   "cell_type": "code",
   "execution_count": null,
   "id": "c38f6e55-b73d-4130-8cdc-1baf1e454a48",
   "metadata": {},
   "outputs": [],
   "source": [
    "animegan = AnimeGAN((256,256,3), Hyperparams.shinkai())"
   ]
  },
  {
   "cell_type": "code",
   "execution_count": null,
   "id": "66e4a0d2-2bb4-4343-b45d-428934fe1965",
   "metadata": {},
   "outputs": [],
   "source": [
    "animegan.gen.summary()"
   ]
  },
  {
   "cell_type": "code",
   "execution_count": null,
   "id": "6065f3fa-3b25-411b-8c4d-6e521f02337f",
   "metadata": {},
   "outputs": [],
   "source": [
    "ds = DataGenerator('datasets/Paprika/style', 'datasets/Hayao/style/', 'datasets/Hayao/smooth/', batch_size=2)"
   ]
  },
  {
   "cell_type": "code",
   "execution_count": null,
   "id": "b1585c37-bdf0-42ba-b917-aa04bbf1af9b",
   "metadata": {},
   "outputs": [],
   "source": [
    "content, (style, smooth, gray) = next(iter(ds))"
   ]
  },
  {
   "cell_type": "code",
   "execution_count": null,
   "id": "4b65c19c-b642-48b8-ac41-94adcf66738e",
   "metadata": {},
   "outputs": [],
   "source": [
    "with tf.GradientTape() as tape:\n",
    "    reconstruct = animegan.gen(content)\n",
    "    loss = content_loss(content, reconstruct, animegan.vgg)"
   ]
  },
  {
   "cell_type": "code",
   "execution_count": null,
   "id": "60efb336-e43c-47f1-bfdc-8d58a43859bc",
   "metadata": {},
   "outputs": [],
   "source": [
    "grads = tape.gradient(loss, animegan.gen.trainable_weights)"
   ]
  },
  {
   "cell_type": "code",
   "execution_count": null,
   "id": "48732021-db2e-4965-953e-e79581d9e8c1",
   "metadata": {},
   "outputs": [],
   "source": []
  }
 ],
 "metadata": {
  "kernelspec": {
   "display_name": "Python 3.8.10 64-bit ('myenv': conda)",
   "language": "python",
   "name": "python381064bitmyenvcondac5ec00a7585646e8ae89d74ab82e4cd8"
  },
  "language_info": {
   "codemirror_mode": {
    "name": "ipython",
    "version": 3
   },
   "file_extension": ".py",
   "mimetype": "text/x-python",
   "name": "python",
   "nbconvert_exporter": "python",
   "pygments_lexer": "ipython3",
   "version": "3.8.10"
  }
 },
 "nbformat": 4,
 "nbformat_minor": 5
}
