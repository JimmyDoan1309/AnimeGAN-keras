{
 "cells": [
  {
   "cell_type": "code",
   "execution_count": null,
   "id": "7deea62f-b565-40e9-87b0-aa976a60d8d6",
   "metadata": {},
   "outputs": [],
   "source": [
    "# !git clone https://github.com/JimmyDoan1309/AnimeGAN-keras.git\n",
    "# !mv AnimeGAN-keras/* ."
   ]
  },
  {
   "cell_type": "code",
   "execution_count": null,
   "id": "e3e2b9d0-a7e8-40b8-96ed-569d3a4676dd",
   "metadata": {},
   "outputs": [],
   "source": [
    "# !pip install -r requirements.txt"
   ]
  },
  {
   "cell_type": "code",
   "execution_count": null,
   "id": "059e96ce-a763-4862-a104-01cffe82151c",
   "metadata": {},
   "outputs": [],
   "source": [
    "# !mkdir dataset\n",
    "# !wget -O dataset/dataset.zip https://github.com/TachibanaYoshino/AnimeGAN/releases/download/dataset-1/dataset.zip"
   ]
  },
  {
   "cell_type": "code",
   "execution_count": null,
   "id": "faac1bd0-ebfc-47fc-9ab7-9a19bb7caad9",
   "metadata": {},
   "outputs": [],
   "source": [
    "# !unzip -q dataset/dataset.zip -d dataset\n",
    "# !rm dataset/dataset.zip"
   ]
  },
  {
   "cell_type": "code",
   "execution_count": null,
   "id": "0f47aedf-ea14-448a-8bf4-7596c02bd7f6",
   "metadata": {},
   "outputs": [],
   "source": [
    "import numpy as np\n",
    "import tensorflow as tf\n",
    "from src.utils import get_image, plot_image, denormalize, normalize\n",
    "from src.animegan import AnimeGAN, Hyperparams\n",
    "from src.datagen import DataGenerator"
   ]
  },
  {
   "cell_type": "code",
   "execution_count": null,
   "id": "9a31b34a-7153-4dbd-a567-96213a26131b",
   "metadata": {},
   "outputs": [],
   "source": [
    "tf.keras.backend.clear_session()"
   ]
  },
  {
   "cell_type": "code",
   "execution_count": null,
   "id": "c38f6e55-b73d-4130-8cdc-1baf1e454a48",
   "metadata": {},
   "outputs": [],
   "source": [
    "animegan = AnimeGAN((256,256,3), Hyperparams.shinkai())"
   ]
  },
  {
   "cell_type": "code",
   "execution_count": null,
   "id": "33b145e4-a55e-4ef3-bf33-c8113bf5b4af",
   "metadata": {},
   "outputs": [],
   "source": [
    "dataset = DataGenerator('./dataset/train_photo', './dataset/Shinkai/style', './dataset/Shinkai/smooth', 16)"
   ]
  },
  {
   "cell_type": "code",
   "execution_count": null,
   "id": "234abd71-a053-452a-b2fa-fa99e6fe3f0c",
   "metadata": {},
   "outputs": [],
   "source": [
    "test_image = normalize(get_image('./dataset/train_photo/0.jpg', as_numpy=True))"
   ]
  },
  {
   "cell_type": "code",
   "execution_count": null,
   "id": "1a647216-11ef-48b8-bab8-dedc8d9a9360",
   "metadata": {},
   "outputs": [],
   "source": [
    "animegan.train(dataset, sample_image=test_image, sample_folder='./images')"
   ]
  },
  {
   "cell_type": "code",
   "execution_count": null,
   "id": "83f8199b-7669-4e99-8512-53fcc7fcc850",
   "metadata": {},
   "outputs": [],
   "source": []
  }
 ],
 "metadata": {
  "kernelspec": {
   "display_name": "Python 3.8.10 64-bit ('myenv': conda)",
   "language": "python",
   "name": "python381064bitmyenvcondac5ec00a7585646e8ae89d74ab82e4cd8"
  },
  "language_info": {
   "codemirror_mode": {
    "name": "ipython",
    "version": 3
   },
   "file_extension": ".py",
   "mimetype": "text/x-python",
   "name": "python",
   "nbconvert_exporter": "python",
   "pygments_lexer": "ipython3",
   "version": "3.8.10"
  }
 },
 "nbformat": 4,
 "nbformat_minor": 5
}
