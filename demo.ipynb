{
 "cells": [
  {
   "cell_type": "code",
   "execution_count": null,
   "id": "7deea62f-b565-40e9-87b0-aa976a60d8d6",
   "metadata": {},
   "outputs": [],
   "source": [
    "# !git clone https://github.com/JimmyDoan1309/AnimeGAN-keras.git\n",
    "# !mv AnimeGAN-keras/* ."
   ]
  },
  {
   "cell_type": "code",
   "execution_count": null,
   "id": "e3e2b9d0-a7e8-40b8-96ed-569d3a4676dd",
   "metadata": {},
   "outputs": [],
   "source": [
    "# !pip install -r requirements.txt"
   ]
  },
  {
   "cell_type": "code",
   "execution_count": null,
   "id": "059e96ce-a763-4862-a104-01cffe82151c",
   "metadata": {},
   "outputs": [],
   "source": [
    "# !mkdir dataset\n",
    "# !wget -O dataset/dataset.zip https://github.com/TachibanaYoshino/AnimeGAN/releases/download/dataset-1/dataset.zip"
   ]
  },
  {
   "cell_type": "code",
   "execution_count": null,
   "id": "faac1bd0-ebfc-47fc-9ab7-9a19bb7caad9",
   "metadata": {},
   "outputs": [],
   "source": [
    "# !unzip -q dataset/dataset.zip -d dataset\n",
    "# !rm dataset/dataset.zip"
   ]
  },
  {
   "cell_type": "code",
   "execution_count": 1,
   "id": "0f47aedf-ea14-448a-8bf4-7596c02bd7f6",
   "metadata": {},
   "outputs": [],
   "source": [
    "import numpy as np\n",
    "import matplotlib.pyplot as plt\n",
    "import tensorflow as tf\n",
    "from src.utils import get_image, plot_image, denormalize, normalize\n",
    "from src.animegan import AnimeGAN, Hyperparams\n",
    "from src.datagen import DataGenerator\n",
    "from src.losses import *"
   ]
  },
  {
   "cell_type": "code",
   "execution_count": 2,
   "id": "9a31b34a-7153-4dbd-a567-96213a26131b",
   "metadata": {},
   "outputs": [],
   "source": [
    "tf.keras.backend.clear_session()"
   ]
  },
  {
   "cell_type": "code",
   "execution_count": 3,
   "id": "c38f6e55-b73d-4130-8cdc-1baf1e454a48",
   "metadata": {},
   "outputs": [
    {
     "name": "stderr",
     "output_type": "stream",
     "text": [
      "2021-12-03 01:13:47.280975: I tensorflow/core/platform/cpu_feature_guard.cc:142] This TensorFlow binary is optimized with oneAPI Deep Neural Network Library (oneDNN) to use the following CPU instructions in performance-critical operations:  AVX2 FMA\n",
      "To enable them in other operations, rebuild TensorFlow with the appropriate compiler flags.\n"
     ]
    }
   ],
   "source": [
    "animegan = AnimeGAN((256,256,3), Hyperparams.shinkai())"
   ]
  },
  {
   "cell_type": "code",
   "execution_count": 12,
   "id": "48d3b2c4-b860-48f3-a0e4-bce2f75f137a",
   "metadata": {},
   "outputs": [],
   "source": [
    "image = np.expand_dims(normalize(get_image('./dataset/train_photo/0.jpg', as_numpy=True)),axis=0)"
   ]
  },
  {
   "cell_type": "code",
   "execution_count": 15,
   "id": "b85f2f06-8953-4044-9c9c-5088049d490d",
   "metadata": {},
   "outputs": [],
   "source": [
    "animegan._test_generator(image, 'test.jpeg', './images')"
   ]
  }
 ],
 "metadata": {
  "kernelspec": {
   "display_name": "Python 3.8.10 64-bit ('myenv': conda)",
   "language": "python",
   "name": "python381064bitmyenvcondac5ec00a7585646e8ae89d74ab82e4cd8"
  },
  "language_info": {
   "codemirror_mode": {
    "name": "ipython",
    "version": 3
   },
   "file_extension": ".py",
   "mimetype": "text/x-python",
   "name": "python",
   "nbconvert_exporter": "python",
   "pygments_lexer": "ipython3",
   "version": "3.8.10"
  }
 },
 "nbformat": 4,
 "nbformat_minor": 5
}
